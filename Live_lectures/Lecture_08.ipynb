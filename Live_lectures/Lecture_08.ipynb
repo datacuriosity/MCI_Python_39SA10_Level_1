{
 "cells": [
  {
   "cell_type": "code",
   "execution_count": 2,
   "id": "2418f50c-2847-4eea-94af-3f03e81a9e87",
   "metadata": {},
   "outputs": [],
   "source": [
    "from google.oauth2 import service_account\n",
    "import pandas_gbq"
   ]
  },
  {
   "cell_type": "code",
   "execution_count": 3,
   "id": "a3ef2f40-432f-4084-93a5-352c16c02be0",
   "metadata": {},
   "outputs": [
    {
     "name": "stderr",
     "output_type": "stream",
     "text": [
      "Downloading: 100%|██████████| 1000/1000 [00:01<00:00, 866.20rows/s]\n"
     ]
    }
   ],
   "source": [
    "path = '/Users/truongnm/Desktop/teaching-dataset-38467351fe2a.json'\n",
    "\n",
    "credentials = service_account.Credentials.from_service_account_file(path)\n",
    "\n",
    "sql = \"SELECT * FROM `bigquery-public-data.iowa_liquor_sales.sales` LIMIT 1000\"\n",
    "\n",
    "df = pandas_gbq.read_gbq(sql, project_id=\"teaching-dataset\", credentials=credentials)"
   ]
  },
  {
   "cell_type": "code",
   "execution_count": 4,
   "id": "a44a2249-35cf-4d36-88b5-9905c78d71be",
   "metadata": {},
   "outputs": [
    {
     "data": {
      "text/html": [
       "<div>\n",
       "<style scoped>\n",
       "    .dataframe tbody tr th:only-of-type {\n",
       "        vertical-align: middle;\n",
       "    }\n",
       "\n",
       "    .dataframe tbody tr th {\n",
       "        vertical-align: top;\n",
       "    }\n",
       "\n",
       "    .dataframe thead th {\n",
       "        text-align: right;\n",
       "    }\n",
       "</style>\n",
       "<table border=\"1\" class=\"dataframe\">\n",
       "  <thead>\n",
       "    <tr style=\"text-align: right;\">\n",
       "      <th></th>\n",
       "      <th>invoice_and_item_number</th>\n",
       "      <th>date</th>\n",
       "      <th>store_number</th>\n",
       "      <th>store_name</th>\n",
       "      <th>address</th>\n",
       "      <th>city</th>\n",
       "      <th>zip_code</th>\n",
       "      <th>store_location</th>\n",
       "      <th>county_number</th>\n",
       "      <th>county</th>\n",
       "      <th>...</th>\n",
       "      <th>item_number</th>\n",
       "      <th>item_description</th>\n",
       "      <th>pack</th>\n",
       "      <th>bottle_volume_ml</th>\n",
       "      <th>state_bottle_cost</th>\n",
       "      <th>state_bottle_retail</th>\n",
       "      <th>bottles_sold</th>\n",
       "      <th>sale_dollars</th>\n",
       "      <th>volume_sold_liters</th>\n",
       "      <th>volume_sold_gallons</th>\n",
       "    </tr>\n",
       "  </thead>\n",
       "  <tbody>\n",
       "    <tr>\n",
       "      <th>0</th>\n",
       "      <td>INV-27979200092</td>\n",
       "      <td>2020-06-15</td>\n",
       "      <td>2619</td>\n",
       "      <td>Hy-Vee Wine and Spirits / WDM</td>\n",
       "      <td>1725  74th St</td>\n",
       "      <td>West Des Moines</td>\n",
       "      <td>50266</td>\n",
       "      <td>POINT (-93.808855 41.598515)</td>\n",
       "      <td>77</td>\n",
       "      <td>POLK</td>\n",
       "      <td>...</td>\n",
       "      <td>27175</td>\n",
       "      <td>Templeton 4YR Rye</td>\n",
       "      <td>6</td>\n",
       "      <td>1000</td>\n",
       "      <td>21.00</td>\n",
       "      <td>31.50</td>\n",
       "      <td>6</td>\n",
       "      <td>189.0</td>\n",
       "      <td>6.0</td>\n",
       "      <td>1.58</td>\n",
       "    </tr>\n",
       "    <tr>\n",
       "      <th>1</th>\n",
       "      <td>S31170300002</td>\n",
       "      <td>2016-03-09</td>\n",
       "      <td>2502</td>\n",
       "      <td>Hy-Vee Wine and Spirits / Ankeny</td>\n",
       "      <td>410 NORTH ANKENY BLVD</td>\n",
       "      <td>ANKENY</td>\n",
       "      <td>50021</td>\n",
       "      <td>None</td>\n",
       "      <td>77</td>\n",
       "      <td>Polk</td>\n",
       "      <td>...</td>\n",
       "      <td>15626</td>\n",
       "      <td>Jameson</td>\n",
       "      <td>12</td>\n",
       "      <td>750</td>\n",
       "      <td>14.99</td>\n",
       "      <td>22.49</td>\n",
       "      <td>120</td>\n",
       "      <td>2698.8</td>\n",
       "      <td>90.0</td>\n",
       "      <td>23.78</td>\n",
       "    </tr>\n",
       "  </tbody>\n",
       "</table>\n",
       "<p>2 rows × 24 columns</p>\n",
       "</div>"
      ],
      "text/plain": [
       "  invoice_and_item_number       date store_number  \\\n",
       "0         INV-27979200092 2020-06-15         2619   \n",
       "1            S31170300002 2016-03-09         2502   \n",
       "\n",
       "                         store_name                address             city  \\\n",
       "0     Hy-Vee Wine and Spirits / WDM          1725  74th St  West Des Moines   \n",
       "1  Hy-Vee Wine and Spirits / Ankeny  410 NORTH ANKENY BLVD           ANKENY   \n",
       "\n",
       "  zip_code                store_location county_number county  ...  \\\n",
       "0    50266  POINT (-93.808855 41.598515)            77   POLK  ...   \n",
       "1    50021                          None            77   Polk  ...   \n",
       "\n",
       "  item_number   item_description pack bottle_volume_ml state_bottle_cost  \\\n",
       "0       27175  Templeton 4YR Rye    6             1000             21.00   \n",
       "1       15626            Jameson   12              750             14.99   \n",
       "\n",
       "  state_bottle_retail  bottles_sold  sale_dollars  volume_sold_liters  \\\n",
       "0               31.50             6         189.0                 6.0   \n",
       "1               22.49           120        2698.8                90.0   \n",
       "\n",
       "   volume_sold_gallons  \n",
       "0                 1.58  \n",
       "1                23.78  \n",
       "\n",
       "[2 rows x 24 columns]"
      ]
     },
     "execution_count": 4,
     "metadata": {},
     "output_type": "execute_result"
    }
   ],
   "source": [
    "df.head(2)"
   ]
  },
  {
   "cell_type": "code",
   "execution_count": 5,
   "id": "4ec006d2-18c2-48f8-b378-59ce2c2086fb",
   "metadata": {},
   "outputs": [
    {
     "data": {
      "text/plain": [
       "Index(['invoice_and_item_number', 'date', 'store_number', 'store_name',\n",
       "       'address', 'city', 'zip_code', 'store_location', 'county_number',\n",
       "       'county', 'category', 'category_name', 'vendor_number', 'vendor_name',\n",
       "       'item_number', 'item_description', 'pack', 'bottle_volume_ml',\n",
       "       'state_bottle_cost', 'state_bottle_retail', 'bottles_sold',\n",
       "       'sale_dollars', 'volume_sold_liters', 'volume_sold_gallons'],\n",
       "      dtype='object')"
      ]
     },
     "execution_count": 5,
     "metadata": {},
     "output_type": "execute_result"
    }
   ],
   "source": [
    "df.columns"
   ]
  },
  {
   "cell_type": "code",
   "execution_count": 7,
   "id": "39fe7e34-b520-486a-97c3-2580eb8bc379",
   "metadata": {},
   "outputs": [],
   "source": [
    "%config Completer.use_jedi = False\n",
    "import pandas as pd"
   ]
  },
  {
   "cell_type": "code",
   "execution_count": 8,
   "id": "f6d95dbf-31b4-46a4-9e5f-99b0d20c53ac",
   "metadata": {},
   "outputs": [],
   "source": [
    "sql = \"\"\"\n",
    "SELECT \n",
    "  item_description\n",
    "  ,ROUND(SUM(volume_sold_gallons),2) AS gallons_sold\n",
    "FROM `bigquery-public-data.iowa_liquor_sales.sales` \n",
    "GROUP BY 1\n",
    "ORDER BY 2 DESC\n",
    "\n",
    "\"\"\"\n",
    "volumn_df = pd.read_gbq(sql, project_id=\"teaching-dataset\", credentials=credentials)"
   ]
  },
  {
   "cell_type": "code",
   "execution_count": 10,
   "id": "0b5c7cd9-ff68-492a-8180-c569a0287b30",
   "metadata": {},
   "outputs": [
    {
     "data": {
      "image/png": "[encoded data removed]",
      "text/plain": [
       "<Figure size 432x288 with 1 Axes>"
      ]
     },
     "metadata": {
      "needs_background": "light"
     },
     "output_type": "display_data"
    }
   ],
   "source": [
    "volumn_df.head(10).plot(kind='bar', x='item_description', y='gallons_sold');"
   ]
  },
  {
   "cell_type": "code",
   "execution_count": null,
   "id": "e2d66123-83af-4a05-a1d2-7d2fa50bae34",
   "metadata": {},
   "outputs": [],
   "source": []
  }
 ],
 "metadata": {
  "kernelspec": {
   "display_name": "Python 3",
   "language": "python",
   "name": "python3"
  },
  "language_info": {
   "codemirror_mode": {
    "name": "ipython",
    "version": 3
   },
   "file_extension": ".py",
   "mimetype": "text/x-python",
   "name": "python",
   "nbconvert_exporter": "python",
   "pygments_lexer": "ipython3",
   "version": "3.7.10"
  }
 },
 "nbformat": 4,
 "nbformat_minor": 5
}
